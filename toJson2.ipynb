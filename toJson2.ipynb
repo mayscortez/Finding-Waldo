{
 "cells": [
  {
   "cell_type": "code",
   "execution_count": 0,
   "metadata": {
    "colab": {},
    "colab_type": "code",
    "id": "W4p_1xxfY30P"
   },
   "outputs": [],
   "source": [
    "###TESTING####\n",
    "# Actual file is down below #\n",
    "\n",
    "import json\n",
    "import os\n",
    "import logging\n",
    "\n",
    "jsonFile = 'w1.png'\n",
    "jsonFile = jsonFile.split('.')[0]+'.json'\n",
    "        \n",
    "line = {}\n",
    "line['file'] = 'w1.json'\n",
    "        \n",
    "line['image_size'] = [{\n",
    "'width':64,\n",
    "'height':54,\n",
    "'depth':3\n",
    "}]\n",
    "        \n",
    "line['annotations'] = [{\n",
    "\"class_id\": 0,\n",
    "\"left\": 47,\n",
    "\"top\": 19,\n",
    "\"width\": 54,\n",
    "\"height\": 67\n",
    "}]\n",
    "        \n",
    "line['categories'] = [{\n",
    "\"class_id\": 0,\n",
    "\"name\": \"waldo\"\n",
    "}]\n",
    "        \n",
    "with open(os.path.join('generated', jsonFile),'w') as p:\n",
    "    json.dump(line,p)"
   ]
  },
  {
   "cell_type": "code",
   "execution_count": 0,
   "metadata": {
    "colab": {},
    "colab_type": "code",
    "id": "9995daYsY30T"
   },
   "outputs": [],
   "source": [
    "import json\n",
    "import os\n",
    "import logging\n",
    "import xlrd \n",
    "loc = (\"/Users/mayleencortez/Desktop/Spring 2019/Advanced Research Investigations/sample waldo csv.xlsx\") \n",
    "wb = xlrd.open_workbook(loc) \n",
    "sheet = wb.sheet_by_index(0)\n",
    "\n",
    "n = 5\n",
    "for i in range(n):\n",
    "    jsonFile = 'w' + str(i+1) + \".jpg\" \n",
    "    jsonFile = jsonFile.split('.')[0]+'.json'\n",
    "        \n",
    "    line = {}\n",
    "    line['file'] = jsonFile\n",
    "    \n",
    "    line['image_size'] = [{\n",
    "    'width':sheet.cell_value(i+1,8),\n",
    "    'height':sheet.cell_value(i+1,9),\n",
    "    'depth':3\n",
    "    }]\n",
    "        \n",
    "    line['annotations'] = [{\n",
    "    \"class_id\": 0,\n",
    "    \"left\": sheet.cell_value(i+1,1),\n",
    "    \"top\": sheet.cell_value(i+1,2),\n",
    "    \"width\": sheet.cell_value(i+1,5),\n",
    "    \"height\": sheet.cell_value(i+1,6)\n",
    "    }]\n",
    "\n",
    "    line['categories'] = [{\n",
    "    \"class_id\": 0,\n",
    "    \"name\": \"waldo\"\n",
    "    }]\n",
    "\n",
    "    \n",
    "    with open(os.path.join('generated', jsonFile),'w') as p:\n",
    "        json.dump(line,p)"
   ]
  },
  {
   "cell_type": "code",
   "execution_count": 0,
   "metadata": {
    "colab": {},
    "colab_type": "code",
    "id": "SeOAUmDsY30X",
    "outputId": "ce9fbc7a-e622-40ff-b641-78329c612524"
   },
   "outputs": [
    {
     "name": "stdout",
     "output_type": "stream",
     "text": [
      "w1.png\n",
      "w1.json\n",
      "w2.png\n",
      "w2.json\n",
      "w3.png\n",
      "w3.json\n",
      "w4.png\n",
      "w4.json\n",
      "w5.png\n",
      "w5.json\n"
     ]
    }
   ],
   "source": [
    "# Simply construct the file name with + and str. \n",
    "# If you want, you can also use old-style or new-style formatting to do so, \n",
    "# so the file name can be constructed as:\n",
    "\n",
    "for i in range(5):\n",
    "    jsonFile = 'w' + str(i+1) + \".png\" \n",
    "    print(jsonFile)\n",
    "    jsonFile = jsonFile.split('.')[0]+'.json'\n",
    "    print(jsonFile)\n",
    "    "
   ]
  },
  {
   "cell_type": "code",
   "execution_count": 0,
   "metadata": {
    "colab": {},
    "colab_type": "code",
    "id": "d4V2s-tsY30d",
    "outputId": "932a24af-b869-4f05-a913-0d82fcfba305"
   },
   "outputs": [
    {
     "name": "stdout",
     "output_type": "stream",
     "text": [
      "['w1', 47.0, 19.0, 101.0, 86.0, 54.0, 67.0, 3618.0]\n",
      "47.0\n"
     ]
    }
   ],
   "source": [
    "# Program to extract a particular row value \n",
    "import xlrd \n",
    "\n",
    "loc = (\"/Users/mayleencortez/Desktop/Spring 2019/Advanced Research Investigations/sample waldo csv.xlsx\") \n",
    "\n",
    "wb = xlrd.open_workbook(loc) \n",
    "sheet = wb.sheet_by_index(0) \n",
    "\n",
    "sheet.cell_value(0, 0) \n",
    "\n",
    "print(sheet.row_values(1)) \n",
    "print(sheet.cell_value(1,1))"
   ]
  },
  {
   "cell_type": "code",
   "execution_count": 0,
   "metadata": {
    "colab": {},
    "colab_type": "code",
    "id": "lGSkuMnNY30h"
   },
   "outputs": [],
   "source": [
    "#Final!!!\n",
    "import json\n",
    "import os\n",
    "import logging\n",
    "import xlrd \n",
    "loc = (\"/Users/mayleencortez/Desktop/Spring 2019/Advanced Research Investigations/imageinfo.xlsx\") \n",
    "wb = xlrd.open_workbook(loc) \n",
    "sheet = wb.sheet_by_index(0)\n",
    "\n",
    "n = 300\n",
    "for i in range(n):\n",
    "    jsonFile = 'w' + str(i+1) + \".jpg\" \n",
    "    jsonFile = jsonFile.split('.')[0]+'.json'\n",
    "        \n",
    "    line = {}\n",
    "    line['file'] = jsonFile\n",
    "    \n",
    "    line['image_size'] = [{\n",
    "    'width':sheet.cell_value(i+1,8),\n",
    "    'height':sheet.cell_value(i+1,9),\n",
    "    'depth':3\n",
    "    }]\n",
    "        \n",
    "    line['annotations'] = [{\n",
    "    \"class_id\": 0,\n",
    "    \"left\": sheet.cell_value(i+1,1),\n",
    "    \"top\": sheet.cell_value(i+1,2),\n",
    "    \"width\": sheet.cell_value(i+1,5),\n",
    "    \"height\": sheet.cell_value(i+1,6)\n",
    "    }]\n",
    "\n",
    "    line['categories'] = [{\n",
    "    \"class_id\": 0,\n",
    "    \"name\": \"waldo\"\n",
    "    }]\n",
    "\n",
    "    \n",
    "    with open(os.path.join('generated', jsonFile),'w') as p:\n",
    "        json.dump(line,p)"
   ]
  },
  {
   "cell_type": "code",
   "execution_count": 0,
   "metadata": {
    "colab": {},
    "colab_type": "code",
    "id": "pJmYSPK7Y30k"
   },
   "outputs": [],
   "source": []
  }
 ],
 "metadata": {
  "colab": {
   "name": "toJson2.ipynb",
   "provenance": [],
   "version": "0.3.2"
  },
  "kernelspec": {
   "display_name": "Python 3",
   "language": "python",
   "name": "python3"
  },
  "language_info": {
   "codemirror_mode": {
    "name": "ipython",
    "version": 3
   },
   "file_extension": ".py",
   "mimetype": "text/x-python",
   "name": "python",
   "nbconvert_exporter": "python",
   "pygments_lexer": "ipython3",
   "version": "3.7.1"
  }
 },
 "nbformat": 4,
 "nbformat_minor": 1
}
