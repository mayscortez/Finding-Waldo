{
 "cells": [
  {
   "cell_type": "code",
   "execution_count": 4,
   "metadata": {},
   "outputs": [],
   "source": [
    "# JUST FOR TESTING\n",
    "from PIL import Image \n",
    "#import os\n",
    "#os.chdir('C:\\\\folder-with-image-file')\n",
    "\n",
    "#load\n",
    "myIm = Image.open('w4.png')\n",
    "\n",
    "#save\n",
    "#newIm = myIm.save('neww4.png')\n",
    "\n",
    "#horizontal-flip\n",
    "myIm.transpose(Image.FLIP_LEFT_RIGHT).save('w4flip.png')"
   ]
  },
  {
   "cell_type": "code",
   "execution_count": 18,
   "metadata": {},
   "outputs": [],
   "source": [
    "#SCRIPT TO HORIZONTALLY FLIP IMAGES IN A LOOP\n",
    "\n",
    "from PIL import Image \n",
    "import os\n",
    "os.chdir('/Users/mayleencortez/Desktop/Spring 2019/Advanced Research Investigations/waldopics')\n",
    "\n",
    "for i in range(196):\n",
    "    im = 'w' + str(i+1) + \".jpg\" \n",
    "    #print(im)\n",
    "    myIm = Image.open(im)\n",
    "    myIm1 = myIm.convert('RGB')\n",
    "    newIm = 'w' + str(i+197) + \".jpg\"\n",
    "    #print(newIm)\n",
    "    myIm1.transpose(Image.FLIP_LEFT_RIGHT).save(newIm)"
   ]
  },
  {
   "cell_type": "code",
   "execution_count": null,
   "metadata": {},
   "outputs": [],
   "source": []
  }
 ],
 "metadata": {
  "kernelspec": {
   "display_name": "Python 3",
   "language": "python",
   "name": "python3"
  },
  "language_info": {
   "codemirror_mode": {
    "name": "ipython",
    "version": 3
   },
   "file_extension": ".py",
   "mimetype": "text/x-python",
   "name": "python",
   "nbconvert_exporter": "python",
   "pygments_lexer": "ipython3",
   "version": "3.7.1"
  }
 },
 "nbformat": 4,
 "nbformat_minor": 2
}
