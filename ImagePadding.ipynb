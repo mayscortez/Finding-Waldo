{
 "cells": [
  {
   "cell_type": "code",
   "execution_count": 36,
   "metadata": {},
   "outputs": [],
   "source": [
    "from PIL import Image\n",
    "import numpy as np\n",
    "\n",
    "imagePath = '/Users/mariacontreras/Documents/waldo/image_set/w2.jpg'\n",
    "\n",
    "imagen = Image.open(imagePath)\n",
    "\n",
    "def padToMultiple(img, number):\n",
    "    width, height = img.size\n",
    "    modifiedWidth = (width // number) + 1\n",
    "    modifiedHeight = (height // number) + 1\n",
    "    paddedImage = np.zeros((modifiedHeight*number, modifiedWidth*number, 3))\n",
    "    imageArray = np.array(img)\n",
    "    paddedImage[:height,:width] = imageArray\n",
    "    return paddedImage\n",
    "\n",
    "paddedImage = padToMultiple(imagen, 150).astype(np.uint8)\n",
    "Image.fromarray(paddedImage)\n",
    "\n",
    "def chippingImages(img, chip_size, delta, name):\n",
    "    width, height = img.size\n",
    "    \n",
    "    for i in range(width // delta):\n",
    "        for j in range(height // delta):\n",
    "            xmin = delta * i\n",
    "            xmax = xmin + chip_size\n",
    "            ymin = delta * j\n",
    "            ymax = ymin + chip_size\n",
    "            \n",
    "            crop = img.crop((xmin, ymin, xmax, ymax))\n",
    "            cropName = '{}-{}-{}-{}-{}.jpg'.format(name, i, j, delta, chip_size)\n",
    "            crop.save(cropName)\n",
    "                            \n",
    "chippingImages(Image.fromarray(paddedImage), 300, 150, 'w2')\n",
    "        "
   ]
  },
  {
   "cell_type": "code",
   "execution_count": 22,
   "metadata": {},
   "outputs": [
    {
     "data": {
      "text/plain": [
       "array([[[101, 113, 125],\n",
       "        [153, 169, 182],\n",
       "        [182, 202, 213],\n",
       "        ...,\n",
       "        [  0,   0,   0],\n",
       "        [  0,   0,   0],\n",
       "        [  0,   0,   0]],\n",
       "\n",
       "       [[104, 116, 128],\n",
       "        [158, 174, 187],\n",
       "        [190, 210, 221],\n",
       "        ...,\n",
       "        [  0,   0,   0],\n",
       "        [  0,   0,   0],\n",
       "        [  0,   0,   0]],\n",
       "\n",
       "       [[105, 117, 129],\n",
       "        [163, 179, 192],\n",
       "        [201, 221, 232],\n",
       "        ...,\n",
       "        [  0,   0,   0],\n",
       "        [  0,   0,   0],\n",
       "        [  0,   0,   0]],\n",
       "\n",
       "       ...,\n",
       "\n",
       "       [[  0,   0,   0],\n",
       "        [  0,   0,   0],\n",
       "        [  0,   0,   0],\n",
       "        ...,\n",
       "        [  0,   0,   0],\n",
       "        [  0,   0,   0],\n",
       "        [  0,   0,   0]],\n",
       "\n",
       "       [[  0,   0,   0],\n",
       "        [  0,   0,   0],\n",
       "        [  0,   0,   0],\n",
       "        ...,\n",
       "        [  0,   0,   0],\n",
       "        [  0,   0,   0],\n",
       "        [  0,   0,   0]],\n",
       "\n",
       "       [[  0,   0,   0],\n",
       "        [  0,   0,   0],\n",
       "        [  0,   0,   0],\n",
       "        ...,\n",
       "        [  0,   0,   0],\n",
       "        [  0,   0,   0],\n",
       "        [  0,   0,   0]]], dtype=uint8)"
      ]
     },
     "execution_count": 22,
     "metadata": {},
     "output_type": "execute_result"
    }
   ],
   "source": []
  },
  {
   "cell_type": "code",
   "execution_count": null,
   "metadata": {},
   "outputs": [],
   "source": []
  }
 ],
 "metadata": {
  "kernelspec": {
   "display_name": "Python 3",
   "language": "python",
   "name": "python3"
  },
  "language_info": {
   "codemirror_mode": {
    "name": "ipython",
    "version": 3
   },
   "file_extension": ".py",
   "mimetype": "text/x-python",
   "name": "python",
   "nbconvert_exporter": "python",
   "pygments_lexer": "ipython3",
   "version": "3.7.2"
  }
 },
 "nbformat": 4,
 "nbformat_minor": 2
}
