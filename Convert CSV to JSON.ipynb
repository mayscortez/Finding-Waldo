{
 "cells": [
  {
   "cell_type": "code",
   "execution_count": null,
   "metadata": {},
   "outputs": [],
   "source": [
    "#Final!!!\n",
    "import json\n",
    "import os\n",
    "import logging\n",
    "import xlrd \n",
    "#ours is called imageinfo.xlsx\n",
    "loc = (\"csv/excel file path name\") \n",
    "wb = xlrd.open_workbook(loc) \n",
    "sheet = wb.sheet_by_index(0)\n",
    "\n",
    "n = 300\n",
    "for i in range(n):\n",
    "    jsonFile = 'w' + str(i+1) + \".jpg\" \n",
    "    jsonFile = jsonFile.split('.')[0]+'.json'\n",
    "        \n",
    "    line = {}\n",
    "    line['file'] = jsonFile\n",
    "    \n",
    "    line['image_size'] = [{\n",
    "    'width':sheet.cell_value(i+1,8),\n",
    "    'height':sheet.cell_value(i+1,9),\n",
    "    'depth':3\n",
    "    }]\n",
    "        \n",
    "    line['annotations'] = [{\n",
    "    \"class_id\": 0,\n",
    "    \"left\": sheet.cell_value(i+1,1),\n",
    "    \"top\": sheet.cell_value(i+1,2),\n",
    "    \"width\": sheet.cell_value(i+1,5),\n",
    "    \"height\": sheet.cell_value(i+1,6)\n",
    "    }]\n",
    "\n",
    "    line['categories'] = [{\n",
    "    \"class_id\": 0,\n",
    "    \"name\": \"waldo\"\n",
    "    }]\n",
    "\n",
    "    \n",
    "    with open(os.path.join('generated', jsonFile),'w') as p:\n",
    "        json.dump(line,p)"
   ]
  }
 ],
 "metadata": {
  "kernelspec": {
   "display_name": "Python 3",
   "language": "python",
   "name": "python3"
  },
  "language_info": {
   "codemirror_mode": {
    "name": "ipython",
    "version": 3
   },
   "file_extension": ".py",
   "mimetype": "text/x-python",
   "name": "python",
   "nbconvert_exporter": "python",
   "pygments_lexer": "ipython3",
   "version": "3.7.1"
  }
 },
 "nbformat": 4,
 "nbformat_minor": 2
}
